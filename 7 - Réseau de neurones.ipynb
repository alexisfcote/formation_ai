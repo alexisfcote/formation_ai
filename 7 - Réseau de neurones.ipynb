{
 "cells": [
  {
   "cell_type": "markdown",
   "metadata": {},
   "source": [
    "# MNIST\n",
    "\n",
    "La base de donnée MNIST est le \"Hello World\" du machine learning. On l'utilise couramment pour commencer l'apprentissage de réseaux de neurones puisque de très simples réseaux nous retourne d'excellents résultats."
   ]
  },
  {
   "cell_type": "code",
   "execution_count": 1,
   "metadata": {},
   "outputs": [],
   "source": [
    "# imports pour le projet\n",
    "import torch\n",
    "from torch import nn, optim\n",
    "import torch.utils.data as data_utils\n",
    "from torchvision import datasets, transforms\n",
    "\n",
    "import numpy as np\n",
    "import matplotlib.pyplot as plt\n",
    "\n",
    "# \"magic function\" pour le Jupyter Notebook\n",
    "%matplotlib inline"
   ]
  },
  {
   "cell_type": "markdown",
   "metadata": {},
   "source": [
    "## Télécharger la base de données MNIST\n",
    "\n",
    "La base de données MNIST est l'une des bases de données les plus commune utilisée pour la classification d'images. Elle est accessible à partir de plusieurs sources dont l'API (application programming interface) de Keras, de Tensorflow, de Pytorch, de Scikit-Learn..."
   ]
  },
  {
   "cell_type": "code",
   "execution_count": 2,
   "metadata": {},
   "outputs": [],
   "source": [
    "# Define a transform to normalize the data\n",
    "transform = transforms.Compose([transforms.ToTensor()])\n",
    "                                \n",
    "# Download and load the data\n",
    "trainset = datasets.MNIST('MNIST_data/', download=True, train=True, transform=transform)\n",
    "trainloader = torch.utils.data.DataLoader(trainset, batch_size=64, shuffle=True)\n",
    "\n",
    "testset = datasets.MNIST('MNIST_data/', download=True, train=False, transform=transform)\n",
    "testloader = torch.utils.data.DataLoader(testset, batch_size=64, shuffle=True)"
   ]
  },
  {
   "cell_type": "markdown",
   "metadata": {},
   "source": [
    "## Un aperçu de nos données\n",
    "Il nous est possible de voir à quoi ressemble nos données en utilisant pyplot provenant de matplotlib. On peut afficher sous forme de graphique en tons de gris les images du MNIST. "
   ]
  },
  {
   "cell_type": "code",
   "execution_count": 3,
   "metadata": {},
   "outputs": [
    {
     "data": {
      "image/png": "[encoded data removed]",
      "text/plain": [
       "<Figure size 864x288 with 5 Axes>"
      ]
     },
     "metadata": {
      "needs_background": "light"
     },
     "output_type": "display_data"
    }
   ],
   "source": [
    "# définir la grosseur des graphiques\n",
    "plt.figure(figsize=(12,4))\n",
    "\n",
    "for index, (image, label) in enumerate(trainset):\n",
    "    if index == 5:\n",
    "        break\n",
    "    \n",
    "    # sélection de 5 images MNIST\n",
    "    plt.subplot(1, 5, index + 1)\n",
    "    \n",
    "    # reshape l'image en 28 pixels par 28 pixels pour l'afficher \n",
    "    plt.imshow(np.reshape(image[0], (28,28)), cmap=plt.cm.gray)\n",
    "    \n",
    "    # affiche le label de l'image\n",
    "    plt.title('Label: %i\\n' % label)"
   ]
  },
  {
   "cell_type": "markdown",
   "metadata": {},
   "source": [
    "## Définir le modèle et les opérations de validation"
   ]
  },
  {
   "cell_type": "code",
   "execution_count": 4,
   "metadata": {},
   "outputs": [],
   "source": [
    "# Hyperparameters pour le réseau de neurones\n",
    "input_size = 784 # 28*28\n",
    "output_size = 10 # nombre de 0 à 9\n",
    "\n",
    "class MNISTClassifier(nn.Module):\n",
    "    def __init__(self):\n",
    "        super().__init__()\n",
    "        self.fc1 = nn.Linear(input_size, output_size)\n",
    "        \n",
    "        \n",
    "    def forward(self, x):\n",
    "        x = x.view(-1, input_size)\n",
    "        return self.fc1(x)\n",
    "\n",
    "    \n",
    "    def validation(self, testloader, criterion):\n",
    "        test_loss = 0\n",
    "        accuracy = 0        \n",
    "        for images, labels in testloader:\n",
    "            output = model.forward(images)\n",
    "            test_loss += criterion(output, labels).item()\n",
    "            ps = torch.exp(output)\n",
    "            equality = (labels.data == ps.max(dim=1)[1])\n",
    "            accuracy += equality.type(torch.FloatTensor).mean()           \n",
    "        return test_loss, accuracy\n",
    "\n",
    "    \n",
    "    def check_accuracy(self, testloader):    \n",
    "        correct = 0\n",
    "        total = 0\n",
    "        with torch.no_grad():\n",
    "            for data in testloader:\n",
    "                images, labels = data\n",
    "                outputs = model(images)\n",
    "                _, predicted = torch.max(outputs.data, 1)\n",
    "                total += labels.size(0)\n",
    "                correct += (predicted == labels.long()).sum().item()\n",
    "        print('Accuracy of the network: %d %%' % (100 * correct / total))"
   ]
  },
  {
   "cell_type": "code",
   "execution_count": 5,
   "metadata": {},
   "outputs": [],
   "source": [
    "model = MNISTClassifier()\n",
    "criterion = nn.CrossEntropyLoss()\n",
    "optimizer = optim.SGD(model.parameters(), lr=0.001)"
   ]
  },
  {
   "cell_type": "code",
   "execution_count": 6,
   "metadata": {},
   "outputs": [
    {
     "data": {
      "text/plain": [
       "937"
      ]
     },
     "execution_count": 6,
     "metadata": {},
     "output_type": "execute_result"
    }
   ],
   "source": [
    "60_000//64"
   ]
  },
  {
   "cell_type": "code",
   "execution_count": 7,
   "metadata": {},
   "outputs": [
    {
     "name": "stdout",
     "output_type": "stream",
     "text": [
      "Epoch: 1/10..  Training Loss: 1.916..  Validation Loss: 1.582..  Validation Accuracy: 0.747\n",
      "Epoch: 2/10..  Training Loss: 1.398..  Validation Loss: 1.214..  Validation Accuracy: 0.804\n",
      "Epoch: 3/10..  Training Loss: 1.127..  Validation Loss: 1.012..  Validation Accuracy: 0.823\n",
      "Epoch: 4/10..  Training Loss: 0.968..  Validation Loss: 0.884..  Validation Accuracy: 0.836\n",
      "Epoch: 5/10..  Training Loss: 0.866..  Validation Loss: 0.801..  Validation Accuracy: 0.845\n",
      "Epoch: 6/10..  Training Loss: 0.794..  Validation Loss: 0.739..  Validation Accuracy: 0.854\n",
      "Epoch: 7/10..  Training Loss: 0.740..  Validation Loss: 0.692..  Validation Accuracy: 0.859\n",
      "Epoch: 8/10..  Training Loss: 0.699..  Validation Loss: 0.655..  Validation Accuracy: 0.863\n",
      "Epoch: 9/10..  Training Loss: 0.666..  Validation Loss: 0.625..  Validation Accuracy: 0.867\n",
      "Epoch: 10/10..  Training Loss: 0.638..  Validation Loss: 0.600..  Validation Accuracy: 0.869\n"
     ]
    }
   ],
   "source": [
    "epochs = 10\n",
    "steps = 0\n",
    "print_every = 1000\n",
    "\n",
    "for e in range(epochs):\n",
    "    running_loss = 0\n",
    "    for images, labels in iter(trainloader):\n",
    "        steps += 1\n",
    "        \n",
    "        optimizer.zero_grad()\n",
    "        \n",
    "        output = model.forward(images)\n",
    "        \n",
    "        loss = criterion(output, labels.long())\n",
    "        loss.backward()\n",
    "        \n",
    "        optimizer.step()\n",
    "        \n",
    "        running_loss += loss.item()\n",
    "        \n",
    "    with torch.no_grad():\n",
    "        test_loss, accuracy = model.validation(testloader, criterion)\n",
    "\n",
    "    print(\"Epoch: {}/{}.. \".format(e+1, epochs),\n",
    "          \"Training Loss: {:.3f}.. \".format(running_loss/len(trainloader)),\n",
    "          \"Validation Loss: {:.3f}.. \".format(test_loss/len(testloader)),\n",
    "          \"Validation Accuracy: {:.3f}\".format(accuracy/len(testloader)))            "
   ]
  },
  {
   "cell_type": "code",
   "execution_count": 8,
   "metadata": {},
   "outputs": [
    {
     "name": "stdout",
     "output_type": "stream",
     "text": [
      "Accuracy of the network: 86 %\n"
     ]
    }
   ],
   "source": [
    "model.check_accuracy(testloader)"
   ]
  },
  {
   "cell_type": "code",
   "execution_count": 9,
   "metadata": {},
   "outputs": [],
   "source": [
    "def visualize_weights(model):\n",
    "    for weights in model.fc1.weight:\n",
    "        plt.imshow(weights.view(28, 28).data)\n",
    "        plt.axis('off')\n",
    "        plt.show()"
   ]
  },
  {
   "cell_type": "code",
   "execution_count": 10,
   "metadata": {},
   "outputs": [
    {
     "data": {
      "image/png": "[encoded data removed]",
      "text/plain": [
       "<Figure size 432x288 with 1 Axes>"
      ]
     },
     "metadata": {
      "needs_background": "light"
     },
     "output_type": "display_data"
    },
    {
     "data": {
      "image/png": "[encoded data removed]",
      "text/plain": [
       "<Figure size 432x288 with 1 Axes>"
      ]
     },
     "metadata": {
      "needs_background": "light"
     },
     "output_type": "display_data"
    },
    {
     "data": {
      "image/png": "[encoded data removed]",
      "text/plain": [
       "<Figure size 432x288 with 1 Axes>"
      ]
     },
     "metadata": {
      "needs_background": "light"
     },
     "output_type": "display_data"
    },
    {
     "data": {
      "image/png": "[encoded data removed]",
      "text/plain": [
       "<Figure size 432x288 with 1 Axes>"
      ]
     },
     "metadata": {
      "needs_background": "light"
     },
     "output_type": "display_data"
    },
    {
     "data": {
      "image/png": "[encoded data removed]",
      "text/plain": [
       "<Figure size 432x288 with 1 Axes>"
      ]
     },
     "metadata": {
      "needs_background": "light"
     },
     "output_type": "display_data"
    },
    {
     "data": {
      "image/png": "[encoded data removed]",
      "text/plain": [
       "<Figure size 432x288 with 1 Axes>"
      ]
     },
     "metadata": {
      "needs_background": "light"
     },
     "output_type": "display_data"
    },
    {
     "data": {
      "image/png": "[encoded data removed]",
      "text/plain": [
       "<Figure size 432x288 with 1 Axes>"
      ]
     },
     "metadata": {
      "needs_background": "light"
     },
     "output_type": "display_data"
    },
    {
     "data": {
      "image/png": "[encoded data removed]",
      "text/plain": [
       "<Figure size 432x288 with 1 Axes>"
      ]
     },
     "metadata": {
      "needs_background": "light"
     },
     "output_type": "display_data"
    },
    {
     "data": {
      "image/png": "[encoded data removed]",
      "text/plain": [
       "<Figure size 432x288 with 1 Axes>"
      ]
     },
     "metadata": {
      "needs_background": "light"
     },
     "output_type": "display_data"
    },
    {
     "data": {
      "image/png": "[encoded data removed]",
      "text/plain": [
       "<Figure size 432x288 with 1 Axes>"
      ]
     },
     "metadata": {
      "needs_background": "light"
     },
     "output_type": "display_data"
    }
   ],
   "source": [
    "visualize_weights(model)"
   ]
  },
  {
   "cell_type": "code",
   "execution_count": 11,
   "metadata": {},
   "outputs": [
    {
     "data": {
      "text/plain": [
       "[-0.022638099268078804,\n",
       " 0.020787309855222702,\n",
       " -0.00454369280487299,\n",
       " 0.01911105588078499,\n",
       " -0.011387304402887821,\n",
       " -0.01690804585814476,\n",
       " -0.01771046221256256,\n",
       " -0.05313875898718834,\n",
       " -0.04758095741271973,\n",
       " -0.056413110345602036,\n",
       " -0.10567531734704971,\n",
       " -0.09205005317926407,\n",
       " -0.09489335864782333,\n",
       " 0.09373550862073898,\n",
       " 0.24675387144088745,\n",
       " 0.200800359249115,\n",
       " 0.03329908102750778,\n",
       " -0.08688805997371674,\n",
       " -0.07033875584602356,\n",
       " -0.06246265769004822,\n",
       " -0.04372776672244072,\n",
       " -0.0317075178027153,\n",
       " -0.045993030071258545,\n",
       " 0.008104026317596436,\n",
       " 0.03090677410364151,\n",
       " -0.0074021900072693825,\n",
       " 0.03535257279872894,\n",
       " 0.034393031150102615]"
      ]
     },
     "execution_count": 11,
     "metadata": {},
     "output_type": "execute_result"
    }
   ],
   "source": [
    "model.fc1.weight[1].view(28, 28).tolist()[12]"
   ]
  },
  {
   "cell_type": "code",
   "execution_count": null,
   "metadata": {},
   "outputs": [],
   "source": []
  }
 ],
 "metadata": {
  "kernelspec": {
   "display_name": "Python 3.7.3 64-bit ('data-science': conda)",
   "language": "python",
   "name": "python37364bitdatascienceconda21efd4ba96a746aa869a1d54068eadd9"
  },
  "language_info": {
   "codemirror_mode": {
    "name": "ipython",
    "version": 3
   },
   "file_extension": ".py",
   "mimetype": "text/x-python",
   "name": "python",
   "nbconvert_exporter": "python",
   "pygments_lexer": "ipython3",
   "version": "3.7.6"
  }
 },
 "nbformat": 4,
 "nbformat_minor": 4
}
