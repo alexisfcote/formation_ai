{
 "cells": [
  {
   "cell_type": "markdown",
   "metadata": {},
   "source": [
    "# MNIST\n",
    "\n",
    "La base de donnée MNIST est le \"Hello World\" du machine learning. On l'utilise couramment pour commencer l'apprentissage de réseaux de neurones puisque de très simples réseaux nous retourne d'excellents résultats."
   ]
  },
  {
   "cell_type": "code",
   "execution_count": 1,
   "metadata": {},
   "outputs": [],
   "source": [
    "# imports pour le projet\n",
    "import torch\n",
    "from torch import nn, optim\n",
    "import torch.utils.data as data_utils\n",
    "from torchvision import datasets, transforms\n",
    "\n",
    "import numpy as np\n",
    "import matplotlib.pyplot as plt\n",
    "\n",
    "# \"magic function\" pour le Jupyter Notebook\n",
    "%matplotlib inline"
   ]
  },
  {
   "cell_type": "markdown",
   "metadata": {},
   "source": [
    "## Télécharger la base de données MNIST\n",
    "\n",
    "La base de données MNIST est l'une des bases de données les plus commune utilisée pour la classification d'images. Elle est accessible à partir de plusieurs sources dont l'API (application programming interface) de Keras, de Tensorflow, de Pytorch, de Scikit-Learn..."
   ]
  },
  {
   "cell_type": "code",
   "execution_count": 2,
   "metadata": {},
   "outputs": [],
   "source": [
    "# Define a transform to normalize the data\n",
    "transform = transforms.Compose([transforms.ToTensor()])\n",
    "                                \n",
    "# Download and load the data\n",
    "trainset = datasets.MNIST('MNIST_data/', download=True, train=True, transform=transform)\n",
    "trainloader = torch.utils.data.DataLoader(trainset, batch_size=64, shuffle=True)\n",
    "\n",
    "testset = datasets.MNIST('MNIST_data/', download=True, train=False, transform=transform)\n",
    "testloader = torch.utils.data.DataLoader(testset, batch_size=64, shuffle=True)"
   ]
  },
  {
   "cell_type": "markdown",
   "metadata": {},
   "source": [
    "## Un aperçu de nos données\n",
    "Il nous est possible de voir à quoi ressemble nos données en utilisant pyplot provenant de matplotlib. On peut afficher sous forme de graphique en tons de gris les images du MNIST. "
   ]
  },
  {
   "cell_type": "code",
   "execution_count": 3,
   "metadata": {},
   "outputs": [
    {
     "data": {
      "image/png": "[encoded data removed]",
      "text/plain": [
       "<Figure size 864x288 with 5 Axes>"
      ]
     },
     "metadata": {
      "needs_background": "light"
     },
     "output_type": "display_data"
    }
   ],
   "source": [
    "# définir la grosseur des graphiques\n",
    "plt.figure(figsize=(12,4))\n",
    "\n",
    "for index, (image, label) in enumerate(trainset):\n",
    "    if index == 5:\n",
    "        break\n",
    "    \n",
    "    # sélection de 5 images MNIST\n",
    "    plt.subplot(1, 5, index + 1)\n",
    "    \n",
    "    # reshape l'image en 28 pixels par 28 pixels pour l'afficher \n",
    "    plt.imshow(np.reshape(image[0], (28,28)), cmap=plt.cm.gray)\n",
    "    \n",
    "    # affiche le label de l'image\n",
    "    plt.title('Label: %i\\n' % label)"
   ]
  },
  {
   "cell_type": "markdown",
   "metadata": {},
   "source": [
    "## Définir le modèle et les opérations de validation"
   ]
  },
  {
   "cell_type": "code",
   "execution_count": 4,
   "metadata": {},
   "outputs": [],
   "source": [
    "# Hyperparameters pour le réseau de neurones\n",
    "input_size = 784 # 28*28\n",
    "output_size = 10 # nombre de 0 à 9\n",
    "\n",
    "class MNISTClassifier(nn.Module):\n",
    "    def __init__(self):\n",
    "        super().__init__()\n",
    "        self.fc1 = nn.Linear(input_size, output_size)\n",
    "        \n",
    "        \n",
    "    def forward(self, x):\n",
    "        x = x.view(-1, input_size)\n",
    "        return self.fc1(x)\n",
    "\n",
    "    \n",
    "    def validation(self, testloader, criterion):\n",
    "        test_loss = 0\n",
    "        accuracy = 0        \n",
    "        for images, labels in testloader:\n",
    "            output = model.forward(images)\n",
    "            test_loss += criterion(output, labels).item()\n",
    "            ps = torch.exp(output)\n",
    "            equality = (labels.data == ps.max(dim=1)[1])\n",
    "            accuracy += equality.type(torch.FloatTensor).mean()           \n",
    "        return test_loss, accuracy\n",
    "\n",
    "    \n",
    "    def check_accuracy(self, testloader):    \n",
    "        correct = 0\n",
    "        total = 0\n",
    "        with torch.no_grad():\n",
    "            for data in testloader:\n",
    "                images, labels = data\n",
    "                outputs = model(images)\n",
    "                _, predicted = torch.max(outputs.data, 1)\n",
    "                total += labels.size(0)\n",
    "                correct += (predicted == labels.long()).sum().item()\n",
    "        print('Accuracy of the network: %d %%' % (100 * correct / total))"
   ]
  },
  {
   "cell_type": "code",
   "execution_count": 5,
   "metadata": {},
   "outputs": [],
   "source": [
    "model = MNISTClassifier()\n",
    "criterion = nn.CrossEntropyLoss()\n",
    "optimizer = optim.SGD(model.parameters(), lr=0.001)"
   ]
  },
  {
   "cell_type": "code",
   "execution_count": 6,
   "metadata": {},
   "outputs": [
    {
     "name": "stdout",
     "output_type": "stream",
     "text": [
      "Epoch: 1/10..  Training Loss: 1.886..  Validation Loss: 1.566..  Validation Accuracy: 0.749\n",
      "Epoch: 2/10..  Training Loss: 1.380..  Validation Loss: 1.206..  Validation Accuracy: 0.803\n",
      "Epoch: 3/10..  Training Loss: 1.116..  Validation Loss: 1.006..  Validation Accuracy: 0.825\n",
      "Epoch: 4/10..  Training Loss: 0.961..  Validation Loss: 0.880..  Validation Accuracy: 0.837\n",
      "Epoch: 5/10..  Training Loss: 0.861..  Validation Loss: 0.798..  Validation Accuracy: 0.846\n",
      "Epoch: 6/10..  Training Loss: 0.790..  Validation Loss: 0.736..  Validation Accuracy: 0.853\n",
      "Epoch: 7/10..  Training Loss: 0.737..  Validation Loss: 0.691..  Validation Accuracy: 0.859\n",
      "Epoch: 8/10..  Training Loss: 0.696..  Validation Loss: 0.653..  Validation Accuracy: 0.863\n",
      "Epoch: 9/10..  Training Loss: 0.663..  Validation Loss: 0.625..  Validation Accuracy: 0.866\n",
      "Epoch: 10/10..  Training Loss: 0.636..  Validation Loss: 0.600..  Validation Accuracy: 0.870\n"
     ]
    }
   ],
   "source": [
    "epochs = 10\n",
    "steps = 0\n",
    "print_every = 1000\n",
    "\n",
    "for e in range(epochs):\n",
    "    running_loss = 0\n",
    "    for images, labels in iter(trainloader):\n",
    "        steps += 1\n",
    "        \n",
    "        optimizer.zero_grad()\n",
    "        \n",
    "        output = model.forward(images)\n",
    "        \n",
    "        loss = criterion(output, labels.long())\n",
    "        loss.backward()\n",
    "        \n",
    "        optimizer.step()\n",
    "        \n",
    "        running_loss += loss.item()\n",
    "        \n",
    "    with torch.no_grad():\n",
    "        test_loss, accuracy = model.validation(testloader, criterion)\n",
    "\n",
    "    print(\"Epoch: {}/{}.. \".format(e+1, epochs),\n",
    "          \"Training Loss: {:.3f}.. \".format(running_loss/len(trainloader)),\n",
    "          \"Validation Loss: {:.3f}.. \".format(test_loss/len(testloader)),\n",
    "          \"Validation Accuracy: {:.3f}\".format(accuracy/len(testloader)))            "
   ]
  },
  {
   "cell_type": "code",
   "execution_count": 8,
   "metadata": {},
   "outputs": [
    {
     "name": "stdout",
     "output_type": "stream",
     "text": [
      "Accuracy of the network: 86 %\n"
     ]
    }
   ],
   "source": [
    "model.check_accuracy(testloader)"
   ]
  },
  {
   "cell_type": "code",
   "execution_count": 9,
   "metadata": {},
   "outputs": [],
   "source": [
    "def visualize_weights(model):\n",
    "    for weights in model.fc1.weight:\n",
    "        plt.imshow(weights.view(28, 28).data)\n",
    "        plt.axis('off')\n",
    "        plt.show()"
   ]
  },
  {
   "cell_type": "code",
   "execution_count": 10,
   "metadata": {},
   "outputs": [
    {
     "data": {
      "image/png": "[encoded data removed]",
      "text/plain": [
       "<matplotlib.figure.Figure at 0x7f72063b80b8>"
      ]
     },
     "metadata": {},
     "output_type": "display_data"
    },
    {
     "data": {
      "image/png": "[encoded data removed]",
      "text/plain": [
       "<matplotlib.figure.Figure at 0x7f7206353898>"
      ]
     },
     "metadata": {},
     "output_type": "display_data"
    },
    {
     "data": {
      "image/png": "[encoded data removed]",
      "text/plain": [
       "<matplotlib.figure.Figure at 0x7f720654f7b8>"
      ]
     },
     "metadata": {},
     "output_type": "display_data"
    },
    {
     "data": {
      "image/png": "[encoded data removed]",
      "text/plain": [
       "<matplotlib.figure.Figure at 0x7f72062fbeb8>"
      ]
     },
     "metadata": {},
     "output_type": "display_data"
    },
    {
     "data": {
      "image/png": "[encoded data removed]",
      "text/plain": [
       "<matplotlib.figure.Figure at 0x7f720652da20>"
      ]
     },
     "metadata": {},
     "output_type": "display_data"
    },
    {
     "data": {
      "image/png": "[encoded data removed]",
      "text/plain": [
       "<matplotlib.figure.Figure at 0x7f72063288d0>"
      ]
     },
     "metadata": {},
     "output_type": "display_data"
    },
    {
     "data": {
      "image/png": "[encoded data removed]",
      "text/plain": [
       "<matplotlib.figure.Figure at 0x7f72063e7278>"
      ]
     },
     "metadata": {},
     "output_type": "display_data"
    },
    {
     "data": {
      "image/png": "[encoded data removed]",
      "text/plain": [
       "<matplotlib.figure.Figure at 0x7f7206525cf8>"
      ]
     },
     "metadata": {},
     "output_type": "display_data"
    },
    {
     "data": {
      "image/png": "[encoded data removed]",
      "text/plain": [
       "<matplotlib.figure.Figure at 0x7f720644c9e8>"
      ]
     },
     "metadata": {},
     "output_type": "display_data"
    },
    {
     "data": {
      "image/png": "[encoded data removed]",
      "text/plain": [
       "<matplotlib.figure.Figure at 0x7f72062afb70>"
      ]
     },
     "metadata": {},
     "output_type": "display_data"
    }
   ],
   "source": [
    "visualize_weights(model)"
   ]
  },
  {
   "cell_type": "code",
   "execution_count": 18,
   "metadata": {},
   "outputs": [
    {
     "data": {
      "text/plain": [
       "[-0.02760755643248558,\n",
       " -0.02472248114645481,\n",
       " -0.010281111113727093,\n",
       " -0.02173752151429653,\n",
       " -0.009742637164890766,\n",
       " -0.017942329868674278,\n",
       " 0.003364389296621084,\n",
       " -0.02379617653787136,\n",
       " -0.06122593954205513,\n",
       " -0.09745579212903976,\n",
       " -0.07998504489660263,\n",
       " -0.09403448551893234,\n",
       " -0.09656661003828049,\n",
       " 0.08181435614824295,\n",
       " 0.26779162883758545,\n",
       " 0.16241490840911865,\n",
       " 0.044165145605802536,\n",
       " -0.07250161468982697,\n",
       " -0.07126886397600174,\n",
       " -0.07227103412151337,\n",
       " -0.030200231820344925,\n",
       " 0.0002917387755587697,\n",
       " -0.015448409132659435,\n",
       " -0.023804428055882454,\n",
       " -0.005726685747504234,\n",
       " 0.0017730261897668242,\n",
       " -0.033592984080314636,\n",
       " 0.0020945363212376833]"
      ]
     },
     "execution_count": 18,
     "metadata": {},
     "output_type": "execute_result"
    }
   ],
   "source": [
    "model.fc1.weight[1].view(28, 28).tolist()[12]"
   ]
  },
  {
   "cell_type": "code",
   "execution_count": null,
   "metadata": {},
   "outputs": [],
   "source": []
  }
 ],
 "metadata": {
  "kernelspec": {
   "display_name": "Python 3.7.3 64-bit ('data-science': conda)",
   "language": "python",
   "name": "python37364bitdatascienceconda21efd4ba96a746aa869a1d54068eadd9"
  },
  "language_info": {
   "codemirror_mode": {
    "name": "ipython",
    "version": 3
   },
   "file_extension": ".py",
   "mimetype": "text/x-python",
   "name": "python",
   "nbconvert_exporter": "python",
   "pygments_lexer": "ipython3",
   "version": "3.7.6"
  }
 },
 "nbformat": 4,
 "nbformat_minor": 4
}
